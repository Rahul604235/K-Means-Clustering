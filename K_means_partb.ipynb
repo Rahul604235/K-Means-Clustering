{
 "cells": [
  {
   "cell_type": "markdown",
   "metadata": {},
   "source": [
    "# K means clustering for flower"
   ]
  },
  {
   "cell_type": "code",
   "execution_count": 30,
   "metadata": {},
   "outputs": [],
   "source": [
    "#This code uses numpy, cv2, Pillow, matplotlib libraries.\n",
    "import numpy as np\n",
    "import random\n",
    "import cv2\n",
    "from PIL import Image\n",
    "import matplotlib.pyplot as plt\n",
    "%matplotlib inline"
   ]
  },
  {
   "cell_type": "code",
   "execution_count": 31,
   "metadata": {},
   "outputs": [],
   "source": [
    "#suppress all warnings \n",
    "import warnings\n",
    "warnings.filterwarnings(\"ignore\")"
   ]
  },
  {
   "cell_type": "code",
   "execution_count": 32,
   "metadata": {},
   "outputs": [],
   "source": [
    "#this code is used to open the image.\n",
    "flower=Image.open('flower.png')"
   ]
  },
  {
   "cell_type": "code",
   "execution_count": 33,
   "metadata": {},
   "outputs": [
    {
     "data": {
      "image/png": "[encoded data removed]",
      "text/plain": [
       "<PIL.PngImagePlugin.PngImageFile image mode=RGB size=175x200 at 0x22BA4F934C8>"
      ]
     },
     "execution_count": 33,
     "metadata": {},
     "output_type": "execute_result"
    }
   ],
   "source": [
    "#This is the flower image.\n",
    "flower"
   ]
  },
  {
   "cell_type": "code",
   "execution_count": 34,
   "metadata": {},
   "outputs": [
    {
     "data": {
      "text/plain": [
       "(200, 175, 3)"
      ]
     },
     "execution_count": 34,
     "metadata": {},
     "output_type": "execute_result"
    }
   ],
   "source": [
    "#Converts image into matrix and finds the shape..\n",
    "Flower_matrix=np.array(flower)\n",
    "n,m,l=Flower_matrix.shape\n",
    "n,m,l"
   ]
  },
  {
   "cell_type": "code",
   "execution_count": 35,
   "metadata": {},
   "outputs": [],
   "source": [
    "#This code helps n creating 30 different random intialization.\n",
    "N=30\n",
    "intial_cluster_means=[]\n",
    "for i in range(N):\n",
    "    x1=[random.randint(0, 255),random.randint(0, 255),random.randint(0, 255)]\n",
    "    x2=[random.randint(0, 255),random.randint(0, 255),random.randint(0, 255)]\n",
    "    x3=[random.randint(0, 255),random.randint(0, 255),random.randint(0, 255)]\n",
    "    intial_cluster_means.append([x1,x2,x3])\n"
   ]
  },
  {
   "cell_type": "code",
   "execution_count": 36,
   "metadata": {},
   "outputs": [],
   "source": [
    "#This code helps in finding the sum mean square fo all 30 random intialization.\n",
    "sum_square_error=[]\n",
    "\n",
    "for z in range(N):\n",
    "    \n",
    "    SSE=0\n",
    "    C1=intial_cluster_means[z][0]\n",
    "    C2=intial_cluster_means[z][1]\n",
    "    C3=intial_cluster_means[z][2]\n",
    "    \n",
    "    for i in range(n):\n",
    "        for j in range(m):\n",
    "            \n",
    "            K1=sum([k**2 for k in (Flower_matrix[i,j]-C1)])\n",
    "            K2=sum([k**2 for k in (Flower_matrix[i,j]-C2)])\n",
    "            K3=sum([k**2 for k in (Flower_matrix[i,j]-C3)])\n",
    "            K_v=[K1,K2,K3]\n",
    "            \n",
    "            SSE += min(K_v)\n",
    "            \n",
    "    sum_square_error.append(SSE)"
   ]
  },
  {
   "cell_type": "code",
   "execution_count": 37,
   "metadata": {},
   "outputs": [],
   "source": [
    "#assigning the random intialization of the minimum and maximum sum_square_error.\n",
    "S_Ci=sum_square_error.index(min(sum_square_error))\n",
    "L_Ci=sum_square_error.index(max(sum_square_error))"
   ]
  },
  {
   "cell_type": "code",
   "execution_count": 38,
   "metadata": {},
   "outputs": [],
   "source": [
    "#intial cluster means for minimum.\n",
    "SC1=intial_cluster_means[S_Ci][0]\n",
    "SC2=intial_cluster_means[S_Ci][1]\n",
    "SC3=intial_cluster_means[S_Ci][2]"
   ]
  },
  {
   "cell_type": "code",
   "execution_count": 39,
   "metadata": {},
   "outputs": [],
   "source": [
    "#intial cluster means for maximum.\n",
    "LC1=intial_cluster_means[L_Ci][0]\n",
    "LC2=intial_cluster_means[L_Ci][1]\n",
    "LC3=intial_cluster_means[L_Ci][2]"
   ]
  },
  {
   "cell_type": "markdown",
   "metadata": {},
   "source": [
    "### Flower Image for SME  minimum"
   ]
  },
  {
   "cell_type": "code",
   "execution_count": 40,
   "metadata": {},
   "outputs": [
    {
     "name": "stdout",
     "output_type": "stream",
     "text": [
      "This is the SSE(sum_square_error)=-2078494995\n",
      "This is the C1(cluster mean value)=[178.0, 30.0, 42.0]\n",
      "This is the C2(cluster mean value)=[255.0, 255.0, 254.0]\n",
      "This is the C3(cluster mean value)=[107.0, 145.0, 46.0]\n",
      "\n",
      "\n",
      "This is the SSE(sum_square_error)=21833568.0\n",
      "This is the C1(cluster mean value)=[190.0, 10.0, 38.0]\n",
      "This is the C2(cluster mean value)=[254.0, 254.0, 254.0]\n",
      "This is the C3(cluster mean value)=[106.0, 139.0, 44.0]\n",
      "\n",
      "\n",
      "This is the SSE(sum_square_error)=20217978.0\n",
      "This is the C1(cluster mean value)=[190.0, 9.0, 37.0]\n",
      "This is the C2(cluster mean value)=[254.0, 254.0, 254.0]\n",
      "This is the C3(cluster mean value)=[106.0, 138.0, 44.0]\n",
      "\n",
      "\n",
      "This is the SSE(sum_square_error)=20209612.0\n",
      "This is the C1(cluster mean value)=[190.0, 9.0, 37.0]\n",
      "This is the C2(cluster mean value)=[254.0, 254.0, 254.0]\n",
      "This is the C3(cluster mean value)=[106.0, 138.0, 44.0]\n",
      "\n",
      "\n",
      "This is the SSE(sum_square_error)=20209612.0\n",
      "This is the C1(cluster mean value)=[190.0, 9.0, 37.0]\n",
      "This is the C2(cluster mean value)=[254.0, 254.0, 254.0]\n",
      "This is the C3(cluster mean value)=[106.0, 138.0, 44.0]\n",
      "\n",
      "\n"
     ]
    }
   ],
   "source": [
    "#This code is to find out the new cluster means with total of 5 iterations.\n",
    "for t in range(5):\n",
    "    \n",
    "    #This are the 3 empty clusters.\n",
    "    K1_cluster=[]\n",
    "    K2_cluster=[]\n",
    "    K3_cluster=[]\n",
    "    \n",
    "    #This code helps in dividing datasets into K_clusters and finding sum square error.\n",
    "    sse=0\n",
    "    for i in range(n):\n",
    "        for j in range(m):\n",
    "            K1=sum([k**2 for k in (Flower_matrix[i,j]-SC1)])\n",
    "            K2=sum([k**2 for k in (Flower_matrix[i,j]-SC2)])\n",
    "            K3=sum([k**2 for k in (Flower_matrix[i,j]-SC3)])\n",
    "            K_v=[K1,K2,K3]\n",
    "            K=K_v.index(min(K_v))+1\n",
    "            \n",
    "            if K==1:\n",
    "                K1_cluster.append([i,j])\n",
    "                sse += min(K_v)\n",
    "            \n",
    "            elif K==2:\n",
    "                K2_cluster.append([i,j])\n",
    "                sse += min(K_v)\n",
    "            \n",
    "            else:\n",
    "                K3_cluster.append([i,j])\n",
    "                sse += min(K_v)\n",
    "\n",
    "    print('This is the SSE(sum_square_error)={}'.format(sse))\n",
    "            \n",
    "    #Recompute the patterns centers to be centroids of current clusters by finding the means of each cluster..\n",
    "\n",
    "    #for K1_cluster\n",
    "    if len(K1_cluster)==0 or len(K2_cluster)==0 or len(K3_cluster)==0:\n",
    "        break\n",
    "    else:\n",
    "        K1_x=0\n",
    "        K1_y=0\n",
    "        K1_z=0\n",
    "        length_K1_cluster=len(K1_cluster)\n",
    "        for k1 in range(length_K1_cluster):\n",
    "            i,j=K1_cluster[k1][0],K1_cluster[k1][1]\n",
    "            K1_x += Flower_matrix[i,j][0]\n",
    "            K1_y += Flower_matrix[i,j][1]\n",
    "            K1_z += Flower_matrix[i,j][2]\n",
    "\n",
    "        K1_x=round(K1_x/length_K1_cluster)\n",
    "        K1_y=round(K1_y/length_K1_cluster)\n",
    "        K1_z=round(K1_z/length_K1_cluster)\n",
    "        K1_array=[K1_x,K1_y,K1_z]\n",
    "        print('This is the C1(cluster mean value)={}'.format(K1_array))\n",
    "\n",
    "        #for K2_cluster\n",
    "        K2_x=0\n",
    "        K2_y=0\n",
    "        K2_z=0\n",
    "        length_K2_cluster=len(K2_cluster)\n",
    "        for k2 in range(length_K2_cluster):\n",
    "            i,j=K2_cluster[k2][0],K2_cluster[k2][1]\n",
    "            K2_x += Flower_matrix[i,j][0]\n",
    "            K2_y += Flower_matrix[i,j][1]\n",
    "            K2_z += Flower_matrix[i,j][2]\n",
    "\n",
    "        K2_x=round(K2_x/length_K2_cluster)\n",
    "        K2_y=round(K2_y/length_K2_cluster)\n",
    "        K2_z=round(K2_z/length_K2_cluster)\n",
    "        K2_array=[K2_x,K2_y,K2_z]\n",
    "        print('This is the C2(cluster mean value)={}'.format(K2_array))\n",
    "\n",
    "        #for K2_cluster\n",
    "        K3_x=0\n",
    "        K3_y=0\n",
    "        K3_z=0\n",
    "        length_K3_cluster=len(K3_cluster)\n",
    "        for k3 in range(length_K3_cluster):\n",
    "            i,j=K3_cluster[k3][0],K3_cluster[k3][1]\n",
    "            K3_x += Flower_matrix[i,j][0]\n",
    "            K3_y += Flower_matrix[i,j][1]\n",
    "            K3_z += Flower_matrix[i,j][2]\n",
    "\n",
    "        K3_x=round(K3_x/length_K3_cluster)\n",
    "        K3_y=round(K3_y/length_K3_cluster)\n",
    "        K3_z=round(K3_z/length_K3_cluster)\n",
    "        K3_array=[K3_x,K3_y,K3_z]\n",
    "        print('This is the C3(cluster mean value)={}'.format(K3_array))\n",
    "        print(\"\\n\")\n",
    "    \n",
    "        SC1=K1_array\n",
    "        SC2=K2_array\n",
    "        SC3=K3_array"
   ]
  },
  {
   "cell_type": "code",
   "execution_count": 41,
   "metadata": {},
   "outputs": [],
   "source": [
    "#This code is used to replace each pixel value in the input image wth the cluster center it belongs to. \n",
    "Final_flower_imageS=np.zeros((n,m,l))\n",
    "for i in range(n):\n",
    "    for j in range(m):\n",
    "        if [i,j] in K1_cluster:\n",
    "            Final_flower_imageS[i,j]=SC1\n",
    "            \n",
    "        elif [i,j] in K2_cluster:\n",
    "            Final_flower_imageS[i,j]=SC2\n",
    "        \n",
    "        else:\n",
    "            Final_flower_imageS[i,j]=SC3"
   ]
  },
  {
   "cell_type": "code",
   "execution_count": 42,
   "metadata": {},
   "outputs": [
    {
     "data": {
      "image/png": "[encoded data removed]",
      "text/plain": [
       "<Figure size 432x288 with 1 Axes>"
      ]
     },
     "metadata": {
      "needs_background": "light"
     },
     "output_type": "display_data"
    }
   ],
   "source": [
    "#This is the final image obtained after k means clustering.\n",
    "plt.imshow(Final_flower_imageS.astype('uint8'))\n",
    "plt.savefig('flower_image_minimum.png')\n",
    "plt.axis('off')\n",
    "plt.show()"
   ]
  },
  {
   "cell_type": "code",
   "execution_count": null,
   "metadata": {},
   "outputs": [],
   "source": []
  },
  {
   "cell_type": "markdown",
   "metadata": {},
   "source": [
    "### Flower Image for SME maximum"
   ]
  },
  {
   "cell_type": "code",
   "execution_count": 44,
   "metadata": {},
   "outputs": [
    {
     "name": "stdout",
     "output_type": "stream",
     "text": [
      "This is the SSE(sum_square_error)=2085997406\n",
      "This is the C1(cluster mean value)=[255.0, 255.0, 255.0]\n",
      "This is the C2(cluster mean value)=[151.0, 177.0, 108.0]\n",
      "This is the C3(cluster mean value)=[184.0, 19.0, 40.0]\n",
      "\n",
      "\n",
      "This is the SSE(sum_square_error)=46464691.0\n",
      "This is the C1(cluster mean value)=[255.0, 255.0, 254.0]\n",
      "This is the C2(cluster mean value)=[114.0, 147.0, 52.0]\n",
      "This is the C3(cluster mean value)=[174.0, 19.0, 34.0]\n",
      "\n",
      "\n",
      "This is the SSE(sum_square_error)=21759491.0\n",
      "This is the C1(cluster mean value)=[254.0, 254.0, 254.0]\n",
      "This is the C2(cluster mean value)=[107.0, 140.0, 45.0]\n",
      "This is the C3(cluster mean value)=[188.0, 9.0, 36.0]\n",
      "\n",
      "\n",
      "This is the SSE(sum_square_error)=20231528.0\n",
      "This is the C1(cluster mean value)=[254.0, 254.0, 254.0]\n",
      "This is the C2(cluster mean value)=[106.0, 138.0, 44.0]\n",
      "This is the C3(cluster mean value)=[190.0, 9.0, 37.0]\n",
      "\n",
      "\n",
      "This is the SSE(sum_square_error)=20209612.0\n",
      "This is the C1(cluster mean value)=[254.0, 254.0, 254.0]\n",
      "This is the C2(cluster mean value)=[106.0, 138.0, 44.0]\n",
      "This is the C3(cluster mean value)=[190.0, 9.0, 37.0]\n",
      "\n",
      "\n"
     ]
    }
   ],
   "source": [
    "#This code is to find out the new cluster means with total of 5 iterations.\n",
    "for t in range(5):\n",
    "    \n",
    "    #This are the 3 empty clusters.\n",
    "    K1_cluster=[]\n",
    "    K2_cluster=[]\n",
    "    K3_cluster=[]\n",
    "    \n",
    "    #This code helps in dividing datasets into K_clusters and sum square error.\n",
    "    sse=0\n",
    "    for i in range(n):\n",
    "        for j in range(m):\n",
    "            K1=sum([k**2 for k in (Flower_matrix[i,j]-LC1)])\n",
    "            K2=sum([k**2 for k in (Flower_matrix[i,j]-LC2)])\n",
    "            K3=sum([k**2 for k in (Flower_matrix[i,j]-LC3)])\n",
    "            K_v=[K1,K2,K3]\n",
    "            K=K_v.index(min(K_v))+1\n",
    "            \n",
    "            if K==1:\n",
    "                K1_cluster.append([i,j])\n",
    "                sse += min(K_v)\n",
    "            \n",
    "            elif K==2:\n",
    "                K2_cluster.append([i,j])\n",
    "                sse += min(K_v)\n",
    "            \n",
    "            else:\n",
    "                K3_cluster.append([i,j])\n",
    "                sse += min(K_v)\n",
    "\n",
    "    print('This is the SSE(sum_square_error)={}'.format(sse))\n",
    "            \n",
    "    #Recompute the patterns centers to be centroids of current clusters by finding the means of each cluster.\n",
    "\n",
    "    #for K1_cluster\n",
    "    if len(K1_cluster)==0 or len(K2_cluster)==0 or len(K3_cluster)==0:\n",
    "        break\n",
    "    else:\n",
    "        K1_x=0\n",
    "        K1_y=0\n",
    "        K1_z=0\n",
    "        length_K1_cluster=len(K1_cluster)\n",
    "        for k1 in range(length_K1_cluster):\n",
    "            i,j=K1_cluster[k1][0],K1_cluster[k1][1]\n",
    "            K1_x += Flower_matrix[i,j][0]\n",
    "            K1_y += Flower_matrix[i,j][1]\n",
    "            K1_z += Flower_matrix[i,j][2]\n",
    "\n",
    "        K1_x=round(K1_x/length_K1_cluster)\n",
    "        K1_y=round(K1_y/length_K1_cluster)\n",
    "        K1_z=round(K1_z/length_K1_cluster)\n",
    "        K1_array=[K1_x,K1_y,K1_z]\n",
    "        print('This is the C1(cluster mean value)={}'.format(K1_array))\n",
    "\n",
    "        #for K2_cluster\n",
    "        K2_x=0\n",
    "        K2_y=0\n",
    "        K2_z=0\n",
    "        length_K2_cluster=len(K2_cluster)\n",
    "        for k2 in range(length_K2_cluster):\n",
    "            i,j=K2_cluster[k2][0],K2_cluster[k2][1]\n",
    "            K2_x += Flower_matrix[i,j][0]\n",
    "            K2_y += Flower_matrix[i,j][1]\n",
    "            K2_z += Flower_matrix[i,j][2]\n",
    "\n",
    "        K2_x=round(K2_x/length_K2_cluster)\n",
    "        K2_y=round(K2_y/length_K2_cluster)\n",
    "        K2_z=round(K2_z/length_K2_cluster)\n",
    "        K2_array=[K2_x,K2_y,K2_z]\n",
    "        print('This is the C2(cluster mean value)={}'.format(K2_array))\n",
    "\n",
    "        #for K2_cluster\n",
    "        K3_x=0\n",
    "        K3_y=0\n",
    "        K3_z=0\n",
    "        length_K3_cluster=len(K3_cluster)\n",
    "        for k3 in range(length_K3_cluster):\n",
    "            i,j=K3_cluster[k3][0],K3_cluster[k3][1]\n",
    "            K3_x += Flower_matrix[i,j][0]\n",
    "            K3_y += Flower_matrix[i,j][1]\n",
    "            K3_z += Flower_matrix[i,j][2]\n",
    "\n",
    "        K3_x=round(K3_x/length_K3_cluster)\n",
    "        K3_y=round(K3_y/length_K3_cluster)\n",
    "        K3_z=round(K3_z/length_K3_cluster)\n",
    "        K3_array=[K3_x,K3_y,K3_z]\n",
    "        print('This is the C3(cluster mean value)={}'.format(K3_array))\n",
    "        print(\"\\n\")\n",
    "    \n",
    "        LC1=K1_array\n",
    "        LC2=K2_array\n",
    "        LC3=K3_array"
   ]
  },
  {
   "cell_type": "code",
   "execution_count": 45,
   "metadata": {},
   "outputs": [],
   "source": [
    "#This code is used to replace each pixel value in the input image wth the cluster center it belongs to. \n",
    "Final_flower_imageL=np.zeros((n,m,l))\n",
    "for i in range(n):\n",
    "    for j in range(m):\n",
    "        if [i,j] in K1_cluster:\n",
    "            Final_flower_imageL[i,j]=LC1\n",
    "            \n",
    "        elif [i,j] in K2_cluster:\n",
    "            Final_flower_imageL[i,j]=LC2\n",
    "        \n",
    "        else:\n",
    "            Final_flower_imageL[i,j]=LC3"
   ]
  },
  {
   "cell_type": "code",
   "execution_count": 46,
   "metadata": {},
   "outputs": [
    {
     "data": {
      "image/png": "[encoded data removed]",
      "text/plain": [
       "<Figure size 432x288 with 1 Axes>"
      ]
     },
     "metadata": {
      "needs_background": "light"
     },
     "output_type": "display_data"
    }
   ],
   "source": [
    "#This is the final image obtained after k means clustering.\n",
    "plt.imshow(Final_flower_imageL.astype('uint8'))\n",
    "plt.savefig('flower_image_maximum.png')\n",
    "plt.axis('off')\n",
    "plt.show()"
   ]
  },
  {
   "cell_type": "code",
   "execution_count": null,
   "metadata": {},
   "outputs": [],
   "source": []
  },
  {
   "cell_type": "markdown",
   "metadata": {},
   "source": [
    "# K means clustering for car"
   ]
  },
  {
   "cell_type": "code",
   "execution_count": 47,
   "metadata": {},
   "outputs": [],
   "source": [
    "#Converts image into matrix.\n",
    "car_matrix =cv2.imread('car.ppm') "
   ]
  },
  {
   "cell_type": "code",
   "execution_count": 48,
   "metadata": {},
   "outputs": [
    {
     "data": {
      "text/plain": [
       "(194, 259, 3)"
      ]
     },
     "execution_count": 48,
     "metadata": {},
     "output_type": "execute_result"
    }
   ],
   "source": [
    "#This code helps in finding shape of matrix.\n",
    "n,m,l=car_matrix.shape\n",
    "n,m,l"
   ]
  },
  {
   "cell_type": "code",
   "execution_count": 49,
   "metadata": {},
   "outputs": [],
   "source": [
    "#This code helps in finding the sum mean square fo all 30 random intialization.\n",
    "N=30\n",
    "intial_cluster_means=[]\n",
    "for i in range(N):\n",
    "    x1=[random.randint(0, 255),random.randint(0, 255),random.randint(0, 255)]\n",
    "    x2=[random.randint(0, 255),random.randint(0, 255),random.randint(0, 255)]\n",
    "    x3=[random.randint(0, 255),random.randint(0, 255),random.randint(0, 255)]\n",
    "    intial_cluster_means.append([x1,x2,x3])\n"
   ]
  },
  {
   "cell_type": "code",
   "execution_count": 50,
   "metadata": {},
   "outputs": [],
   "source": [
    "#This code helps in finding the sum mean square fo all 30 random intialization.\n",
    "sum_square_error=[]\n",
    "\n",
    "for z in range(N):\n",
    "    \n",
    "    SSE=0\n",
    "    C1=intial_cluster_means[z][0]\n",
    "    C2=intial_cluster_means[z][1]\n",
    "    C3=intial_cluster_means[z][2]\n",
    "    \n",
    "    for i in range(n):\n",
    "        for j in range(m):\n",
    "            \n",
    "            K1=sum([k**2 for k in (car_matrix[i,j]-C1)])\n",
    "            K2=sum([k**2 for k in (car_matrix[i,j]-C2)])\n",
    "            K3=sum([k**2 for k in (car_matrix[i,j]-C3)])\n",
    "            K_v=[K1,K2,K3]\n",
    "            \n",
    "            SSE += min(K_v)\n",
    "            \n",
    "    sum_square_error.append(SSE)"
   ]
  },
  {
   "cell_type": "code",
   "execution_count": 51,
   "metadata": {},
   "outputs": [],
   "source": [
    "#assigning the random intialization of the minimum and maximum sum_square_error.\n",
    "S_Ci=sum_square_error.index(min(sum_square_error))\n",
    "L_Ci=sum_square_error.index(max(sum_square_error))"
   ]
  },
  {
   "cell_type": "code",
   "execution_count": 52,
   "metadata": {},
   "outputs": [],
   "source": [
    "#intial cluster means for minimum.\n",
    "SC1=intial_cluster_means[S_Ci][0]\n",
    "SC2=intial_cluster_means[S_Ci][1]\n",
    "SC3=intial_cluster_means[S_Ci][2]"
   ]
  },
  {
   "cell_type": "code",
   "execution_count": 53,
   "metadata": {},
   "outputs": [],
   "source": [
    "#intial cluster means for maximum.\n",
    "LC1=intial_cluster_means[L_Ci][0]\n",
    "LC2=intial_cluster_means[L_Ci][1]\n",
    "LC3=intial_cluster_means[L_Ci][2]"
   ]
  },
  {
   "cell_type": "markdown",
   "metadata": {},
   "source": [
    "### car image for SME minimum"
   ]
  },
  {
   "cell_type": "code",
   "execution_count": 54,
   "metadata": {},
   "outputs": [
    {
     "name": "stdout",
     "output_type": "stream",
     "text": [
      "This is the SSE(sum_square_error)=475527041\n",
      "This is the C1(cluster mean value)=[52.0, 46.0, 51.0]\n",
      "This is the C2(cluster mean value)=[34.0, 37.0, 214.0]\n",
      "This is the C3(cluster mean value)=[243.0, 242.0, 243.0]\n",
      "\n",
      "\n",
      "This is the SSE(sum_square_error)=184962436.0\n",
      "This is the C1(cluster mean value)=[49.0, 43.0, 48.0]\n",
      "This is the C2(cluster mean value)=[36.0, 39.0, 213.0]\n",
      "This is the C3(cluster mean value)=[242.0, 240.0, 240.0]\n",
      "\n",
      "\n",
      "This is the SSE(sum_square_error)=183800493.0\n",
      "This is the C1(cluster mean value)=[48.0, 42.0, 47.0]\n",
      "This is the C2(cluster mean value)=[37.0, 40.0, 212.0]\n",
      "This is the C3(cluster mean value)=[241.0, 240.0, 240.0]\n",
      "\n",
      "\n",
      "This is the SSE(sum_square_error)=183676851.0\n",
      "This is the C1(cluster mean value)=[47.0, 42.0, 47.0]\n",
      "This is the C2(cluster mean value)=[37.0, 40.0, 212.0]\n",
      "This is the C3(cluster mean value)=[241.0, 240.0, 240.0]\n",
      "\n",
      "\n",
      "This is the SSE(sum_square_error)=183671182.0\n",
      "This is the C1(cluster mean value)=[47.0, 42.0, 47.0]\n",
      "This is the C2(cluster mean value)=[37.0, 40.0, 212.0]\n",
      "This is the C3(cluster mean value)=[241.0, 240.0, 239.0]\n",
      "\n",
      "\n"
     ]
    }
   ],
   "source": [
    "#This code is to find out the new cluster means with total of 5 iterations.\n",
    "for t in range(5):\n",
    "    \n",
    "    #This are the 3 empty clusters.\n",
    "    K1_cluster=[]\n",
    "    K2_cluster=[]\n",
    "    K3_cluster=[]\n",
    "    \n",
    "    #This code helps in dividing datasets into K_clusters and sum square error.\n",
    "    sse=0\n",
    "    for i in range(n):\n",
    "        for j in range(m):\n",
    "            K1=sum([k**2 for k in (car_matrix[i,j]-SC1)])\n",
    "            K2=sum([k**2 for k in (car_matrix[i,j]-SC2)])\n",
    "            K3=sum([k**2 for k in (car_matrix[i,j]-SC3)])\n",
    "            K_v=[K1,K2,K3]\n",
    "            K=K_v.index(min(K_v))+1\n",
    "            \n",
    "            if K==1:\n",
    "                K1_cluster.append([i,j])\n",
    "                sse += min(K_v)\n",
    "            \n",
    "            elif K==2:\n",
    "                K2_cluster.append([i,j])\n",
    "                sse += min(K_v)\n",
    "            \n",
    "            else:\n",
    "                K3_cluster.append([i,j])\n",
    "                sse += min(K_v)\n",
    "\n",
    "    print('This is the SSE(sum_square_error)={}'.format(sse))\n",
    "            \n",
    "    #Recompute the patterns centers to be centroids of current clusters by finding the means of each cluster.\n",
    "\n",
    "    #for K1_cluster\n",
    "    if len(K1_cluster)==0 or len(K2_cluster)==0 or len(K3_cluster)==0:\n",
    "        break\n",
    "    else:\n",
    "        K1_x=0\n",
    "        K1_y=0\n",
    "        K1_z=0\n",
    "        length_K1_cluster=len(K1_cluster)\n",
    "        for k1 in range(length_K1_cluster):\n",
    "            i,j=K1_cluster[k1][0],K1_cluster[k1][1]\n",
    "            K1_x += car_matrix[i,j][0]\n",
    "            K1_y += car_matrix[i,j][1]\n",
    "            K1_z += car_matrix[i,j][2]\n",
    "\n",
    "        K1_x=round(K1_x/length_K1_cluster)\n",
    "        K1_y=round(K1_y/length_K1_cluster)\n",
    "        K1_z=round(K1_z/length_K1_cluster)\n",
    "        K1_array=[K1_x,K1_y,K1_z]\n",
    "        print('This is the C1(cluster mean value)={}'.format(K1_array))\n",
    "\n",
    "        #for K2_cluster\n",
    "        K2_x=0\n",
    "        K2_y=0\n",
    "        K2_z=0\n",
    "        length_K2_cluster=len(K2_cluster)\n",
    "        for k2 in range(length_K2_cluster):\n",
    "            i,j=K2_cluster[k2][0],K2_cluster[k2][1]\n",
    "            K2_x += car_matrix[i,j][0]\n",
    "            K2_y += car_matrix[i,j][1]\n",
    "            K2_z += car_matrix[i,j][2]\n",
    "\n",
    "        K2_x=round(K2_x/length_K2_cluster)\n",
    "        K2_y=round(K2_y/length_K2_cluster)\n",
    "        K2_z=round(K2_z/length_K2_cluster)\n",
    "        K2_array=[K2_x,K2_y,K2_z]\n",
    "        print('This is the C2(cluster mean value)={}'.format(K2_array))\n",
    "\n",
    "        #for K2_cluster\n",
    "        K3_x=0\n",
    "        K3_y=0\n",
    "        K3_z=0\n",
    "        length_K3_cluster=len(K3_cluster)\n",
    "        for k3 in range(length_K3_cluster):\n",
    "            i,j=K3_cluster[k3][0],K3_cluster[k3][1]\n",
    "            K3_x += car_matrix[i,j][0]\n",
    "            K3_y += car_matrix[i,j][1]\n",
    "            K3_z += car_matrix[i,j][2]\n",
    "\n",
    "        K3_x=round(K3_x/length_K3_cluster)\n",
    "        K3_y=round(K3_y/length_K3_cluster)\n",
    "        K3_z=round(K3_z/length_K3_cluster)\n",
    "        K3_array=[K3_x,K3_y,K3_z]\n",
    "        print('This is the C3(cluster mean value)={}'.format(K3_array))\n",
    "        print(\"\\n\")\n",
    "    \n",
    "        SC1=K1_array\n",
    "        SC2=K2_array\n",
    "        SC3=K3_array"
   ]
  },
  {
   "cell_type": "code",
   "execution_count": 55,
   "metadata": {},
   "outputs": [],
   "source": [
    "#This code is used to replace each pixel value in the input image wth the cluster center it belongs to. \n",
    "Final_car_imageS=np.zeros((n,m,l))\n",
    "for i in range(n):\n",
    "    for j in range(m):\n",
    "        if [i,j] in K1_cluster:\n",
    "            Final_car_imageS[i,j]=SC1\n",
    "            \n",
    "        elif [i,j] in K2_cluster:\n",
    "            Final_car_imageS[i,j]=SC2\n",
    "        \n",
    "        else:\n",
    "            Final_car_imageS[i,j]=SC3"
   ]
  },
  {
   "cell_type": "code",
   "execution_count": 56,
   "metadata": {},
   "outputs": [
    {
     "data": {
      "image/png": "[encoded data removed]",
      "text/plain": [
       "<Figure size 432x288 with 1 Axes>"
      ]
     },
     "metadata": {
      "needs_background": "light"
     },
     "output_type": "display_data"
    }
   ],
   "source": [
    "#This is the final image obtained after k means clustering.\n",
    "plt.imshow(Final_car_imageS.astype('uint8'))\n",
    "plt.savefig('car_image_minimum.png')\n",
    "plt.axis('off')\n",
    "plt.show()"
   ]
  },
  {
   "cell_type": "markdown",
   "metadata": {},
   "source": [
    "### Car image for SME maximum"
   ]
  },
  {
   "cell_type": "code",
   "execution_count": 57,
   "metadata": {},
   "outputs": [
    {
     "name": "stdout",
     "output_type": "stream",
     "text": [
      "This is the SSE(sum_square_error)=2000048786\n",
      "This is the C1(cluster mean value)=[250.0, 246.0, 241.0]\n",
      "This is the C2(cluster mean value)=[132.0, 114.0, 107.0]\n",
      "This is the C3(cluster mean value)=[122.0, 121.0, 159.0]\n",
      "\n",
      "\n",
      "This is the SSE(sum_square_error)=635792280.0\n",
      "This is the C1(cluster mean value)=[251.0, 250.0, 250.0]\n",
      "This is the C2(cluster mean value)=[48.0, 42.0, 47.0]\n",
      "This is the C3(cluster mean value)=[65.0, 66.0, 201.0]\n",
      "\n",
      "\n",
      "This is the SSE(sum_square_error)=188212838.0\n",
      "This is the C1(cluster mean value)=[245.0, 244.0, 244.0]\n",
      "This is the C2(cluster mean value)=[39.0, 34.0, 40.0]\n",
      "This is the C3(cluster mean value)=[60.0, 60.0, 195.0]\n",
      "\n",
      "\n",
      "This is the SSE(sum_square_error)=179633373.0\n",
      "This is the C1(cluster mean value)=[244.0, 243.0, 243.0]\n",
      "This is the C2(cluster mean value)=[37.0, 32.0, 37.0]\n",
      "This is the C3(cluster mean value)=[61.0, 60.0, 190.0]\n",
      "\n",
      "\n",
      "This is the SSE(sum_square_error)=178621822.0\n",
      "This is the C1(cluster mean value)=[244.0, 243.0, 243.0]\n",
      "This is the C2(cluster mean value)=[35.0, 31.0, 36.0]\n",
      "This is the C3(cluster mean value)=[62.0, 61.0, 188.0]\n",
      "\n",
      "\n"
     ]
    }
   ],
   "source": [
    "#This code is to find out the new cluster means with total of 5 iterations.\n",
    "for t in range(5):\n",
    "    \n",
    "    #This are the 3 empty clusters.\n",
    "    K1_cluster=[]\n",
    "    K2_cluster=[]\n",
    "    K3_cluster=[]\n",
    "    \n",
    "    #This code helps in dividing datasets into K_clusters and sum square error.\n",
    "    sse=0\n",
    "    for i in range(n):\n",
    "        for j in range(m):\n",
    "            K1=sum([k**2 for k in (car_matrix[i,j]-LC1)])\n",
    "            K2=sum([k**2 for k in (car_matrix[i,j]-LC2)])\n",
    "            K3=sum([k**2 for k in (car_matrix[i,j]-LC3)])\n",
    "            K_v=[K1,K2,K3]\n",
    "            K=K_v.index(min(K_v))+1\n",
    "            \n",
    "            if K==1:\n",
    "                K1_cluster.append([i,j])\n",
    "                sse += min(K_v)\n",
    "            \n",
    "            elif K==2:\n",
    "                K2_cluster.append([i,j])\n",
    "                sse += min(K_v)\n",
    "            \n",
    "            else:\n",
    "                K3_cluster.append([i,j])\n",
    "                sse += min(K_v)\n",
    "\n",
    "    print('This is the SSE(sum_square_error)={}'.format(sse))\n",
    "            \n",
    "    #Recompute the patterns centers to be centroids of current clusters by finding the means of each cluster.\n",
    "\n",
    "    #for K1_cluster\n",
    "    if len(K1_cluster)==0 or len(K2_cluster)==0 or len(K3_cluster)==0:\n",
    "        break\n",
    "    else:\n",
    "        K1_x=0\n",
    "        K1_y=0\n",
    "        K1_z=0\n",
    "        length_K1_cluster=len(K1_cluster)\n",
    "        for k1 in range(length_K1_cluster):\n",
    "            i,j=K1_cluster[k1][0],K1_cluster[k1][1]\n",
    "            K1_x += car_matrix[i,j][0]\n",
    "            K1_y += car_matrix[i,j][1]\n",
    "            K1_z += car_matrix[i,j][2]\n",
    "\n",
    "        K1_x=round(K1_x/length_K1_cluster)\n",
    "        K1_y=round(K1_y/length_K1_cluster)\n",
    "        K1_z=round(K1_z/length_K1_cluster)\n",
    "        K1_array=[K1_x,K1_y,K1_z]\n",
    "        print('This is the C1(cluster mean value)={}'.format(K1_array))\n",
    "\n",
    "        #for K2_cluster\n",
    "        K2_x=0\n",
    "        K2_y=0\n",
    "        K2_z=0\n",
    "        length_K2_cluster=len(K2_cluster)\n",
    "        for k2 in range(length_K2_cluster):\n",
    "            i,j=K2_cluster[k2][0],K2_cluster[k2][1]\n",
    "            K2_x += car_matrix[i,j][0]\n",
    "            K2_y += car_matrix[i,j][1]\n",
    "            K2_z += car_matrix[i,j][2]\n",
    "\n",
    "        K2_x=round(K2_x/length_K2_cluster)\n",
    "        K2_y=round(K2_y/length_K2_cluster)\n",
    "        K2_z=round(K2_z/length_K2_cluster)\n",
    "        K2_array=[K2_x,K2_y,K2_z]\n",
    "        print('This is the C2(cluster mean value)={}'.format(K2_array))\n",
    "\n",
    "        #for K2_cluster\n",
    "        K3_x=0\n",
    "        K3_y=0\n",
    "        K3_z=0\n",
    "        length_K3_cluster=len(K3_cluster)\n",
    "        for k3 in range(length_K3_cluster):\n",
    "            i,j=K3_cluster[k3][0],K3_cluster[k3][1]\n",
    "            K3_x += car_matrix[i,j][0]\n",
    "            K3_y += car_matrix[i,j][1]\n",
    "            K3_z += car_matrix[i,j][2]\n",
    "\n",
    "        K3_x=round(K3_x/length_K3_cluster)\n",
    "        K3_y=round(K3_y/length_K3_cluster)\n",
    "        K3_z=round(K3_z/length_K3_cluster)\n",
    "        K3_array=[K3_x,K3_y,K3_z]\n",
    "        print('This is the C3(cluster mean value)={}'.format(K3_array))\n",
    "        print(\"\\n\")\n",
    "    \n",
    "        LC1=K1_array\n",
    "        LC2=K2_array\n",
    "        LC3=K3_array"
   ]
  },
  {
   "cell_type": "code",
   "execution_count": 58,
   "metadata": {},
   "outputs": [],
   "source": [
    "#This code is used to replace each pixel value in the input image wth the cluster center it belongs to. \n",
    "Final_car_imageL=np.zeros((n,m,l))\n",
    "for i in range(n):\n",
    "    for j in range(m):\n",
    "        if [i,j] in K1_cluster:\n",
    "            Final_car_imageL[i,j]=LC1\n",
    "            \n",
    "        elif [i,j] in K2_cluster:\n",
    "            Final_car_imageL[i,j]=LC2\n",
    "        \n",
    "        else:\n",
    "            Final_car_imageL[i,j]=LC3"
   ]
  },
  {
   "cell_type": "code",
   "execution_count": 59,
   "metadata": {},
   "outputs": [
    {
     "data": {
      "image/png": "[encoded data removed]",
      "text/plain": [
       "<Figure size 432x288 with 1 Axes>"
      ]
     },
     "metadata": {
      "needs_background": "light"
     },
     "output_type": "display_data"
    }
   ],
   "source": [
    "#This is the final image obtained after k means clustering.\n",
    "plt.imshow(Final_car_imageL.astype('uint8'))\n",
    "plt.savefig('car_image_maximum.png')\n",
    "plt.axis('off')\n",
    "plt.show()"
   ]
  },
  {
   "cell_type": "code",
   "execution_count": null,
   "metadata": {},
   "outputs": [],
   "source": []
  },
  {
   "cell_type": "code",
   "execution_count": null,
   "metadata": {},
   "outputs": [],
   "source": []
  },
  {
   "cell_type": "code",
   "execution_count": null,
   "metadata": {},
   "outputs": [],
   "source": []
  }
 ],
 "metadata": {
  "kernelspec": {
   "display_name": "Python 3",
   "language": "python",
   "name": "python3"
  },
  "language_info": {
   "codemirror_mode": {
    "name": "ipython",
    "version": 3
   },
   "file_extension": ".py",
   "mimetype": "text/x-python",
   "name": "python",
   "nbconvert_exporter": "python",
   "pygments_lexer": "ipython3",
   "version": "3.7.6"
  }
 },
 "nbformat": 4,
 "nbformat_minor": 4
}
