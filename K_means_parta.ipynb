{
 "cells": [
  {
   "cell_type": "markdown",
   "metadata": {},
   "source": [
    "# K means clustering for flower"
   ]
  },
  {
   "cell_type": "code",
   "execution_count": 1,
   "metadata": {},
   "outputs": [],
   "source": [
    "#This code uses numpy, cv2, Pillow, matplotlib libraries.\n",
    "import numpy as np\n",
    "import cv2\n",
    "from PIL import Image\n",
    "import matplotlib.pyplot as plt\n",
    "%matplotlib inline"
   ]
  },
  {
   "cell_type": "code",
   "execution_count": 2,
   "metadata": {},
   "outputs": [],
   "source": [
    "#this code is used to open the image.\n",
    "flower=Image.open('flower.png')"
   ]
  },
  {
   "cell_type": "code",
   "execution_count": 3,
   "metadata": {},
   "outputs": [
    {
     "data": {
      "image/png": "[encoded data removed]",
      "text/plain": [
       "<PIL.PngImagePlugin.PngImageFile image mode=RGB size=175x200 at 0x1A69C38B848>"
      ]
     },
     "execution_count": 3,
     "metadata": {},
     "output_type": "execute_result"
    }
   ],
   "source": [
    "#This is the flower image.\n",
    "flower"
   ]
  },
  {
   "cell_type": "code",
   "execution_count": 4,
   "metadata": {},
   "outputs": [],
   "source": [
    "#Converts image into matrix.\n",
    "Flower_matrix=np.array(flower)\n",
    "n,m,l=Flower_matrix.shape"
   ]
  },
  {
   "cell_type": "code",
   "execution_count": 5,
   "metadata": {},
   "outputs": [],
   "source": [
    "#intial cluster means.\n",
    "C1=[255,0,0]\n",
    "C2=[0,0,0]\n",
    "C3=[255,255,255]"
   ]
  },
  {
   "cell_type": "code",
   "execution_count": 6,
   "metadata": {},
   "outputs": [
    {
     "name": "stdout",
     "output_type": "stream",
     "text": [
      "This is the SSE(sum_square_error)=135915038\n",
      "This is the C1(cluster mean value)=[192.0, 29.0, 42.0]\n",
      "This is the C2(cluster mean value)=[93.0, 120.0, 31.0]\n",
      "This is the C3(cluster mean value)=[253.0, 253.0, 251.0]\n",
      "\n",
      "\n",
      "This is the SSE(sum_square_error)=23825009.0\n",
      "This is the C1(cluster mean value)=[191.0, 10.0, 38.0]\n",
      "This is the C2(cluster mean value)=[104.0, 137.0, 42.0]\n",
      "This is the C3(cluster mean value)=[254.0, 254.0, 253.0]\n",
      "\n",
      "\n",
      "This is the SSE(sum_square_error)=20269838.0\n",
      "This is the C1(cluster mean value)=[190.0, 9.0, 37.0]\n",
      "This is the C2(cluster mean value)=[106.0, 138.0, 44.0]\n",
      "This is the C3(cluster mean value)=[254.0, 254.0, 254.0]\n",
      "\n",
      "\n",
      "This is the SSE(sum_square_error)=20209612.0\n",
      "This is the C1(cluster mean value)=[190.0, 9.0, 37.0]\n",
      "This is the C2(cluster mean value)=[106.0, 138.0, 44.0]\n",
      "This is the C3(cluster mean value)=[254.0, 254.0, 254.0]\n",
      "\n",
      "\n",
      "This is the SSE(sum_square_error)=20209612.0\n",
      "This is the C1(cluster mean value)=[190.0, 9.0, 37.0]\n",
      "This is the C2(cluster mean value)=[106.0, 138.0, 44.0]\n",
      "This is the C3(cluster mean value)=[254.0, 254.0, 254.0]\n",
      "\n",
      "\n"
     ]
    }
   ],
   "source": [
    "#This code is to find out the new cluster means with total of 5 iterations.\n",
    "for t in range(5):\n",
    "    \n",
    "    #This are the 3 empty clusters.\n",
    "    K1_cluster=[]\n",
    "    K2_cluster=[]\n",
    "    K3_cluster=[]\n",
    "    \n",
    "    #This code helps in dividing datasets into K_clusters and  finding sum square error.\n",
    "    sum_square_error=0\n",
    "    for i in range(n):\n",
    "        for j in range(m):\n",
    "            K1=sum([k**2 for k in (Flower_matrix[i,j]-C1)])\n",
    "            K2=sum([k**2 for k in (Flower_matrix[i,j]-C2)])\n",
    "            K3=sum([k**2 for k in (Flower_matrix[i,j]-C3)])\n",
    "            K_v=[K1,K2,K3]\n",
    "            K=K_v.index(min(K_v))+1\n",
    "            \n",
    "            if K==1:\n",
    "                K1_cluster.append([i,j])\n",
    "                sum_square_error += min(K_v)\n",
    "            \n",
    "            elif K==2:\n",
    "                K2_cluster.append([i,j])\n",
    "                sum_square_error += min(K_v)\n",
    "            \n",
    "            else:\n",
    "                K3_cluster.append([i,j])\n",
    "                sum_square_error += min(K_v)\n",
    "\n",
    "    print('This is the SSE(sum_square_error)={}'.format(sum_square_error))\n",
    "            \n",
    "    #Recompute the patterns centers to be centroids of current clusters by finding the means of each cluster.\n",
    "\n",
    "    #for K1_cluster\n",
    "    K1_x=0\n",
    "    K1_y=0\n",
    "    K1_z=0\n",
    "    length_K1_cluster=len(K1_cluster)\n",
    "    for k1 in range(length_K1_cluster):\n",
    "        i,j=K1_cluster[k1][0],K1_cluster[k1][1]\n",
    "        K1_x += Flower_matrix[i,j][0]\n",
    "        K1_y += Flower_matrix[i,j][1]\n",
    "        K1_z += Flower_matrix[i,j][2]\n",
    "\n",
    "    K1_x=round(K1_x/length_K1_cluster)\n",
    "    K1_y=round(K1_y/length_K1_cluster)\n",
    "    K1_z=round(K1_z/length_K1_cluster)\n",
    "    K1_array=[K1_x,K1_y,K1_z]\n",
    "    print('This is the C1(cluster mean value)={}'.format(K1_array))\n",
    "\n",
    "    #for K2_cluster\n",
    "    K2_x=0\n",
    "    K2_y=0\n",
    "    K2_z=0\n",
    "    length_K2_cluster=len(K2_cluster)\n",
    "    for k2 in range(length_K2_cluster):\n",
    "        i,j=K2_cluster[k2][0],K2_cluster[k2][1]\n",
    "        K2_x += Flower_matrix[i,j][0]\n",
    "        K2_y += Flower_matrix[i,j][1]\n",
    "        K2_z += Flower_matrix[i,j][2]\n",
    "\n",
    "    K2_x=round(K2_x/length_K2_cluster)\n",
    "    K2_y=round(K2_y/length_K2_cluster)\n",
    "    K2_z=round(K2_z/length_K2_cluster)\n",
    "    K2_array=[K2_x,K2_y,K2_z]\n",
    "    print('This is the C2(cluster mean value)={}'.format(K2_array))\n",
    "\n",
    "    #for K2_cluster\n",
    "    K3_x=0\n",
    "    K3_y=0\n",
    "    K3_z=0\n",
    "    length_K3_cluster=len(K3_cluster)\n",
    "    for k3 in range(length_K3_cluster):\n",
    "        i,j=K3_cluster[k3][0],K3_cluster[k3][1]\n",
    "        K3_x += Flower_matrix[i,j][0]\n",
    "        K3_y += Flower_matrix[i,j][1]\n",
    "        K3_z += Flower_matrix[i,j][2]\n",
    "\n",
    "    K3_x=round(K3_x/length_K3_cluster)\n",
    "    K3_y=round(K3_y/length_K3_cluster)\n",
    "    K3_z=round(K3_z/length_K3_cluster)\n",
    "    K3_array=[K3_x,K3_y,K3_z]\n",
    "    print('This is the C3(cluster mean value)={}'.format(K3_array))\n",
    "    print(\"\\n\")\n",
    "    \n",
    "    C1=K1_array\n",
    "    C2=K2_array\n",
    "    C3=K3_array\n",
    "    "
   ]
  },
  {
   "cell_type": "code",
   "execution_count": 7,
   "metadata": {},
   "outputs": [],
   "source": [
    "#This code is used to replace each pixel value in the input image wth the cluster center it belongs to. \n",
    "Final_flower_image=np.zeros((n,m,l))\n",
    "for i in range(n):\n",
    "    for j in range(m):\n",
    "        if [i,j] in K1_cluster:\n",
    "            Final_flower_image[i,j]=C1\n",
    "            \n",
    "        elif [i,j] in K2_cluster:\n",
    "            Final_flower_image[i,j]=C2\n",
    "        \n",
    "        else:\n",
    "            Final_flower_image[i,j]=C3"
   ]
  },
  {
   "cell_type": "code",
   "execution_count": 8,
   "metadata": {},
   "outputs": [
    {
     "data": {
      "image/png": "[encoded data removed]",
      "text/plain": [
       "<Figure size 432x288 with 1 Axes>"
      ]
     },
     "metadata": {
      "needs_background": "light"
     },
     "output_type": "display_data"
    }
   ],
   "source": [
    "#This is the final image obtained after k means clustering.\n",
    "plt.imshow(Final_flower_image.astype('uint8'))\n",
    "plt.savefig('Final_flower_image.png')\n",
    "plt.axis('off')\n",
    "plt.show()"
   ]
  },
  {
   "cell_type": "code",
   "execution_count": null,
   "metadata": {},
   "outputs": [],
   "source": []
  },
  {
   "cell_type": "markdown",
   "metadata": {},
   "source": [
    "# K means clustering for car"
   ]
  },
  {
   "cell_type": "code",
   "execution_count": 9,
   "metadata": {},
   "outputs": [],
   "source": [
    "#Converts image into matrix.\n",
    "car_matrix =cv2.imread('car.ppm') "
   ]
  },
  {
   "cell_type": "code",
   "execution_count": 10,
   "metadata": {},
   "outputs": [
    {
     "data": {
      "text/plain": [
       "(194, 259, 3)"
      ]
     },
     "execution_count": 10,
     "metadata": {},
     "output_type": "execute_result"
    }
   ],
   "source": [
    "#This code helps in finding the shape of the image matrix.\n",
    "n,m,l=car_matrix.shape\n",
    "n,m,l"
   ]
  },
  {
   "cell_type": "code",
   "execution_count": 11,
   "metadata": {},
   "outputs": [],
   "source": [
    "#intial cluster means.\n",
    "C1=[255,0,0]\n",
    "C2=[0,0,0]\n",
    "C3=[255,255,255]"
   ]
  },
  {
   "cell_type": "code",
   "execution_count": 12,
   "metadata": {},
   "outputs": [
    {
     "name": "stdout",
     "output_type": "stream",
     "text": [
      "This is the SSE(sum_square_error)=758024363\n",
      "This is the C1(cluster mean value)=[137.0, 121.0, 114.0]\n",
      "This is the C2(cluster mean value)=[37.0, 35.0, 95.0]\n",
      "This is the C3(cluster mean value)=[234.0, 232.0, 236.0]\n",
      "\n",
      "\n",
      "This is the SSE(sum_square_error)=290666468.0\n",
      "This is the C1(cluster mean value)=[133.0, 122.0, 139.0]\n",
      "This is the C2(cluster mean value)=[30.0, 28.0, 94.0]\n",
      "This is the C3(cluster mean value)=[250.0, 249.0, 249.0]\n",
      "\n",
      "\n",
      "This is the SSE(sum_square_error)=266016027.0\n",
      "This is the C1(cluster mean value)=[127.0, 118.0, 152.0]\n",
      "This is the C2(cluster mean value)=[29.0, 27.0, 88.0]\n",
      "This is the C3(cluster mean value)=[251.0, 251.0, 251.0]\n",
      "\n",
      "\n",
      "This is the SSE(sum_square_error)=260122112.0\n",
      "This is the C1(cluster mean value)=[117.0, 110.0, 163.0]\n",
      "This is the C2(cluster mean value)=[29.0, 27.0, 80.0]\n",
      "This is the C3(cluster mean value)=[251.0, 251.0, 251.0]\n",
      "\n",
      "\n",
      "This is the SSE(sum_square_error)=246657014.0\n",
      "This is the C1(cluster mean value)=[94.0, 91.0, 180.0]\n",
      "This is the C2(cluster mean value)=[30.0, 26.0, 58.0]\n",
      "This is the C3(cluster mean value)=[251.0, 250.0, 250.0]\n",
      "\n",
      "\n"
     ]
    }
   ],
   "source": [
    "#This code is to find out the new cluster means with total of 5 iterations.\n",
    "for t in range(5):\n",
    "    \n",
    "    #This are the 3 empty clusters.\n",
    "    K1_cluster=[]\n",
    "    K2_cluster=[]\n",
    "    K3_cluster=[]\n",
    "    \n",
    "    #This code helps in dividing datasets into K_clusters and finding of sum square error.\n",
    "    sum_square_error=0\n",
    "    for i in range(n):\n",
    "        for j in range(m):\n",
    "            K1=sum([k**2 for k in (car_matrix[i,j]-C1)])\n",
    "            K2=sum([k**2 for k in (car_matrix[i,j]-C2)])\n",
    "            K3=sum([k**2 for k in (car_matrix[i,j]-C3)])\n",
    "            K_v=[K1,K2,K3]\n",
    "            K=K_v.index(min(K_v))+1\n",
    "            \n",
    "            if K==1:\n",
    "                K1_cluster.append([i,j])\n",
    "                sum_square_error += min(K_v)\n",
    "            \n",
    "            elif K==2:\n",
    "                K2_cluster.append([i,j])\n",
    "                sum_square_error += min(K_v)\n",
    "            \n",
    "            else:\n",
    "                K3_cluster.append([i,j])\n",
    "                sum_square_error += min(K_v)\n",
    "\n",
    "    print('This is the SSE(sum_square_error)={}'.format(sum_square_error))\n",
    "      \n",
    "    #Recompute the patterns centers to be centroids of current clusters by finding the means of each cluster.\n",
    "\n",
    "    #for K1_cluster\n",
    "    K1_x=0\n",
    "    K1_y=0\n",
    "    K1_z=0\n",
    "    length_K1_cluster=len(K1_cluster)\n",
    "    for k1 in range(length_K1_cluster):\n",
    "        i,j=K1_cluster[k1][0],K1_cluster[k1][1]\n",
    "        K1_x += car_matrix[i,j][0]\n",
    "        K1_y += car_matrix[i,j][1]\n",
    "        K1_z += car_matrix[i,j][2]\n",
    "\n",
    "    K1_x=round(K1_x/length_K1_cluster)\n",
    "    K1_y=round(K1_y/length_K1_cluster)\n",
    "    K1_z=round(K1_z/length_K1_cluster)\n",
    "    K1_array=[K1_x,K1_y,K1_z]\n",
    "    print('This is the C1(cluster mean value)={}'.format(K1_array))\n",
    "\n",
    "    #for K2_cluster\n",
    "    K2_x=0\n",
    "    K2_y=0\n",
    "    K2_z=0\n",
    "    length_K2_cluster=len(K2_cluster)\n",
    "    for k2 in range(length_K2_cluster):\n",
    "        i,j=K2_cluster[k2][0],K2_cluster[k2][1]\n",
    "        K2_x += car_matrix[i,j][0]\n",
    "        K2_y += car_matrix[i,j][1]\n",
    "        K2_z += car_matrix[i,j][2]\n",
    "\n",
    "    K2_x=round(K2_x/length_K2_cluster)\n",
    "    K2_y=round(K2_y/length_K2_cluster)\n",
    "    K2_z=round(K2_z/length_K2_cluster)\n",
    "    K2_array=[K2_x,K2_y,K2_z]\n",
    "    print('This is the C2(cluster mean value)={}'.format(K2_array))\n",
    "\n",
    "    #for K2_cluster\n",
    "    K3_x=0\n",
    "    K3_y=0\n",
    "    K3_z=0\n",
    "    length_K3_cluster=len(K3_cluster)\n",
    "    for k3 in range(length_K3_cluster):\n",
    "        i,j=K3_cluster[k3][0],K3_cluster[k3][1]\n",
    "        K3_x += car_matrix[i,j][0]\n",
    "        K3_y += car_matrix[i,j][1]\n",
    "        K3_z += car_matrix[i,j][2]\n",
    "\n",
    "    K3_x=round(K3_x/length_K3_cluster)\n",
    "    K3_y=round(K3_y/length_K3_cluster)\n",
    "    K3_z=round(K3_z/length_K3_cluster)\n",
    "    K3_array=[K3_x,K3_y,K3_z]\n",
    "    print('This is the C3(cluster mean value)={}'.format(K3_array))\n",
    "    print(\"\\n\")\n",
    "    \n",
    "    C1=K1_array\n",
    "    C2=K2_array\n",
    "    C3=K3_array\n",
    "    "
   ]
  },
  {
   "cell_type": "code",
   "execution_count": 13,
   "metadata": {},
   "outputs": [],
   "source": [
    "#This code is used to replace each pixel value in the input image wth the cluster center it belongs to. \n",
    "Final_car_image=np.zeros((n,m,l))\n",
    "for i in range(n):\n",
    "    for j in range(m):\n",
    "        if [i,j] in K1_cluster:\n",
    "            Final_car_image[i,j]=C1\n",
    "            \n",
    "        elif [i,j] in K2_cluster:\n",
    "            Final_car_image[i,j]=C2\n",
    "        \n",
    "        else:\n",
    "            Final_car_image[i,j]=C3"
   ]
  },
  {
   "cell_type": "code",
   "execution_count": 14,
   "metadata": {},
   "outputs": [
    {
     "data": {
      "image/png": "[encoded data removed]",
      "text/plain": [
       "<Figure size 432x288 with 1 Axes>"
      ]
     },
     "metadata": {
      "needs_background": "light"
     },
     "output_type": "display_data"
    }
   ],
   "source": [
    "#This is the final image obtained after k means clustering.\n",
    "plt.imshow(Final_car_image.astype('uint8'))\n",
    "plt.savefig('Final_car_image.png')\n",
    "plt.axis('off')\n",
    "plt.show()"
   ]
  },
  {
   "cell_type": "code",
   "execution_count": null,
   "metadata": {},
   "outputs": [],
   "source": []
  }
 ],
 "metadata": {
  "kernelspec": {
   "display_name": "Python 3",
   "language": "python",
   "name": "python3"
  },
  "language_info": {
   "codemirror_mode": {
    "name": "ipython",
    "version": 3
   },
   "file_extension": ".py",
   "mimetype": "text/x-python",
   "name": "python",
   "nbconvert_exporter": "python",
   "pygments_lexer": "ipython3",
   "version": "3.7.6"
  }
 },
 "nbformat": 4,
 "nbformat_minor": 4
}
